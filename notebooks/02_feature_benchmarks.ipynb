{
 "cells": [
  {
   "cell_type": "markdown",
   "metadata": {},
   "source": [
    "# 02 - Feature Benchmarks",
    "\n",
    "Compare sliding window features and scaling strategies."
   ]
  },
  {
   "cell_type": "code",
   "execution_count": null,
   "metadata": {},
   "outputs": [],
   "source": [
    "import pandas as pd\n",
    "from fosm_mlops.features.build_features import FeatureBuilder, FeatureBuilderConfig, SlidingWindowConfig\n",
    "\n",
    "raw = pd.read_parquet('../data/raw/synthetic_signals.parquet')\n",
    "cfg = FeatureBuilderConfig(window=SlidingWindowConfig(window_size=200, step_size=100, sample_rate=200))\n",
    "builder = FeatureBuilder(cfg)\n",
    "artifacts = builder.build(raw.head(1000))\n",
    "features = pd.read_parquet(artifacts.features_path)\n",
    "features.describe()\n"
   ]
  }
 ],
 "metadata": {
  "kernelspec": {
   "display_name": "Python 3",
   "language": "python",
   "name": "python3"
  },
  "language_info": {
   "name": "python",
   "version": "3.10"
  }
 },
 "nbformat": 4,
 "nbformat_minor": 5
}
