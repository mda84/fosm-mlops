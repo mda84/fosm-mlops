{
 "cells": [
  {
   "cell_type": "markdown",
   "metadata": {},
   "source": [
    "# 03 - Model Benchmarks",
    "\n",
    "Compare classical, anomaly, and deep learning models on processed features."
   ]
  },
  {
   "cell_type": "code",
   "execution_count": null,
   "metadata": {},
   "outputs": [],
   "source": [
    "import pandas as pd\n",
    "from fosm_mlops.models.registry import get_model\n",
    "from fosm_mlops.models import utils\n",
    "\n",
    "features = pd.read_parquet('../data/processed/features.parquet')\n",
    "labels = pd.read_csv('../data/labels/synthetic_labels.csv')\n",
    "dataset = features.merge(labels, left_on=['sensor_id', 'time_start'], right_on=['sensor_id', 'start_time'], how='left')\n",
    "dataset['event'].fillna('normal', inplace=True)\n",
    "dataset['target'] = (dataset['event'] != 'normal').astype(int)\n",
    "split = utils.time_aware_split(dataset, dataset['target'])\n"
   ]
  }
 ],
 "metadata": {
  "kernelspec": {
   "display_name": "Python 3",
   "language": "python",
   "name": "python3"
  },
  "language_info": {
   "name": "python",
   "version": "3.10"
  }
 },
 "nbformat": 4,
 "nbformat_minor": 5
}
