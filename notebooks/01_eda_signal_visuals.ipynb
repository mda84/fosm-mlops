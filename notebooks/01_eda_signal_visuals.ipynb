{
 "cells": [
  {
   "cell_type": "markdown",
   "metadata": {},
   "source": [
    "# 01 - EDA Signal Visuals",
    "\n",
    "Explore synthetic fiber-optic signals, apply filters, and visualize FFT/STFT outputs."
   ]
  },
  {
   "cell_type": "code",
   "execution_count": null,
   "metadata": {},
   "outputs": [],
   "source": [
    "import pandas as pd\n",
    "import plotly.express as px\n",
    "from fosm_mlops.features import signal_processing as sp\n",
    "\n",
    "df = pd.read_parquet('../data/raw/synthetic_signals.parquet')\n",
    "sensor = df[df['sensor_id'] == 0].head(1000)\n",
    "filtered = sp.savitzky_golay(sensor['value'].to_numpy(), window_length=9, polyorder=3)\n",
    "fig = px.line(sensor, x='time', y='value', title='Raw Signal')\n",
    "fig.show()\n"
   ]
  }
 ],
 "metadata": {
  "kernelspec": {
   "display_name": "Python 3",
   "language": "python",
   "name": "python3"
  },
  "language_info": {
   "name": "python",
   "version": "3.10"
  }
 },
 "nbformat": 4,
 "nbformat_minor": 5
}
